{
 "cells": [
  {
   "cell_type": "code",
   "execution_count": 1,
   "id": "0b03caad",
   "metadata": {},
   "outputs": [],
   "source": [
    "import scanpy as sc\n",
    "import scirpy as ir\n"
   ]
  },
  {
   "cell_type": "code",
   "execution_count": null,
   "id": "5d2aa4eb",
   "metadata": {},
   "outputs": [],
   "source": [
    "adata = sc.read_10x_h5('/home/amrita/Documents/test_merge/SRR633443.filtered_feature_bc_matrix.h5')\n"
   ]
  },
  {
   "cell_type": "code",
   "execution_count": null,
   "id": "c2a71554",
   "metadata": {},
   "outputs": [],
   "source": [
    "vdj =ir.io.read_10x_vdj('/home/amrita/Documents/test_merge/SRR6334436.filtered_contig_annotations.csv')\n"
   ]
  },
  {
   "cell_type": "code",
   "execution_count": null,
   "id": "e2e8dfc6",
   "metadata": {},
   "outputs": [],
   "source": [
    "ir.pp.merge_with_ir(adata, vdj)"
   ]
  },
  {
   "cell_type": "code",
   "execution_count": null,
   "id": "f3dc70b3",
   "metadata": {},
   "outputs": [],
   "source": [
    "adata.write('/home/amrita/Documents/test_merge/mergedadata')\n"
   ]
  },
  {
   "cell_type": "code",
   "execution_count": null,
   "id": "602aab52",
   "metadata": {},
   "outputs": [],
   "source": [
    "sc.pp.filter_genes(adata, min_cells=10)\n",
    "sc.pp.filter_cells(adata, min_genes=100)"
   ]
  },
  {
   "cell_type": "code",
   "execution_count": null,
   "id": "3b15ac9c",
   "metadata": {},
   "outputs": [],
   "source": [
    "sc.pp.normalize_per_cell(adata, counts_per_cell_after=1000)\n",
    "sc.pp.log1p(adata)\n",
    "sc.pp.highly_variable_genes(adata, flavor=\"cell_ranger\", n_top_genes=5000)\n",
    "sc.tl.pca(adata)\n",
    "sc.pp.neighbors(adata)"
   ]
  },
  {
   "cell_type": "code",
   "execution_count": null,
   "id": "f354ba7f",
   "metadata": {},
   "outputs": [],
   "source": [
    "sc.pl.umap (adata, save = '/opt/data/umap.png', color = 'leiden')"
   ]
  },
  {
   "cell_type": "code",
   "execution_count": null,
   "id": "c97ce14a",
   "metadata": {},
   "outputs": [],
   "source": [
    "ir.tl.chain_qc(adata)"
   ]
  },
  {
   "cell_type": "code",
   "execution_count": null,
   "id": "524b5137",
   "metadata": {},
   "outputs": [],
   "source": [
    "ax = ir.pl.group_abundance(adata, groupby=\"receptor_subtype\", target_col=\"source\")"
   ]
  },
  {
   "cell_type": "code",
   "execution_count": null,
   "id": "c13c77fa",
   "metadata": {},
   "outputs": [],
   "source": [
    "plt.savefig('/opt/data/receptor_subtype.png')"
   ]
  },
  {
   "cell_type": "code",
   "execution_count": null,
   "id": "486c7660",
   "metadata": {},
   "outputs": [],
   "source": [
    "ax = ir.pl.group_abundance(adata, groupby=\"chain_pairing\", target_col=\"source\")"
   ]
  },
  {
   "cell_type": "code",
   "execution_count": null,
   "id": "6babbccb",
   "metadata": {},
   "outputs": [],
   "source": [
    "plt.savefig('/opt/data/chain_pairing.png')"
   ]
  },
  {
   "cell_type": "code",
   "execution_count": null,
   "id": "5de9f07d",
   "metadata": {},
   "outputs": [],
   "source": []
  }
 ],
 "metadata": {
  "kernelspec": {
   "display_name": "Python 3 (ipykernel)",
   "language": "python",
   "name": "python3"
  },
  "language_info": {
   "codemirror_mode": {
    "name": "ipython",
    "version": 3
   },
   "file_extension": ".py",
   "mimetype": "text/x-python",
   "name": "python",
   "nbconvert_exporter": "python",
   "pygments_lexer": "ipython3",
   "version": "3.10.8"
  }
 },
 "nbformat": 4,
 "nbformat_minor": 5
}
